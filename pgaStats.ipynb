{
  "nbformat": 4,
  "nbformat_minor": 0,
  "metadata": {
    "colab": {
      "provenance": [],
      "authorship_tag": "ABX9TyMDY+8e/ld66CPQy1IAm9sl",
      "include_colab_link": true
    },
    "kernelspec": {
      "name": "python3",
      "display_name": "Python 3"
    },
    "language_info": {
      "name": "python"
    }
  },
  "cells": [
    {
      "cell_type": "markdown",
      "metadata": {
        "id": "view-in-github",
        "colab_type": "text"
      },
      "source": [
        "<a href=\"https://colab.research.google.com/github/dtawneyd/PGA-Tour-Comparisons/blob/main/pgaStats.ipynb\" target=\"_parent\"><img src=\"https://colab.research.google.com/assets/colab-badge.svg\" alt=\"Open In Colab\"/></a>"
      ]
    },
    {
      "cell_type": "markdown",
      "source": [
        "# PGA Tour Stat Comparison 🏌"
      ],
      "metadata": {
        "id": "aQnIFgDLqLYI"
      }
    },
    {
      "cell_type": "markdown",
      "source": [
        "Import packages."
      ],
      "metadata": {
        "id": "UgnYcRakomF_"
      }
    },
    {
      "cell_type": "code",
      "execution_count": 60,
      "metadata": {
        "id": "FyXqvcgIog8u"
      },
      "outputs": [],
      "source": [
        "import pandas as pd\n",
        "import matplotlib.pyplot as plt\n",
        "import ssl\n",
        "import warnings"
      ]
    },
    {
      "cell_type": "markdown",
      "source": [
        "I imported ssl because when I try to scrape (read_html) from this site, I get a certificate error. I got the following work around from Python Simplified on YouTube. There is a chance that this isn't needed, but if the code is ran without it and you get an error, import ssl and the following line of code."
      ],
      "metadata": {
        "id": "G17vBqtEo9M-"
      }
    },
    {
      "cell_type": "code",
      "source": [
        "ssl._create_default_https_context = ssl._create_unverified_context\n",
        "warnings.simplefilter(action='ignore', category=FutureWarning)"
      ],
      "metadata": {
        "id": "rIUgUsJSpNy1"
      },
      "execution_count": 61,
      "outputs": []
    },
    {
      "cell_type": "markdown",
      "source": [
        "Below I set a variable for year to be used in the pd.read_html() method to scrape the desired data."
      ],
      "metadata": {
        "id": "7_ESX2s8pkQM"
      }
    },
    {
      "cell_type": "code",
      "source": [
        "year = 2012  # change the year here\n",
        "scraper = pd.read_html(f'https://www.espn.com/golf/stats/player/_/season/{year}/table/general/sort/scoringAverage/dir/asc')"
      ],
      "metadata": {
        "id": "SAX9TbyipQii"
      },
      "execution_count": 62,
      "outputs": []
    },
    {
      "cell_type": "markdown",
      "source": [
        "For the webpage that I used in ESPN.com, the data is separated into two tables (player names and stats). So here I am indexing the two tables from the url and resetting the index to help with merging."
      ],
      "metadata": {
        "id": "uGvoHGajp_LR"
      }
    },
    {
      "cell_type": "code",
      "source": [
        "list_of_players = scraper[0]\n",
        "list_of_stats = scraper[1]\n",
        "list_of_players.reset_index(inplace=True)\n",
        "list_of_stats.reset_index(inplace=True)"
      ],
      "metadata": {
        "id": "aGaIcXaHp65O"
      },
      "execution_count": 63,
      "outputs": []
    },
    {
      "cell_type": "markdown",
      "source": [
        "Here I am merging the player data and stat data from ESPN.com into a single Pandas data frame and cleaning the columns for the statistics that I want to compare. This also prints out the available players to compare for the year variable entered before."
      ],
      "metadata": {
        "id": "5iJuei4HqsiE"
      }
    },
    {
      "cell_type": "code",
      "source": [
        "player_stats = pd.merge(list_of_players, list_of_stats)\n",
        "player_stats.columns = ['index', 'rank', 'player', 'age', 'earnings', 'fedexcup', 'events', 'rounds', 'cuts', 'top10s',\n",
        "                        'wins', 'Avg Score', 'drive_dist', 'Drive Acc', 'GIR', 'avg_putts', 'sand', 'birds']\n",
        "player_stats.drop(['index', 'rank', 'age', 'events', 'rounds', 'sand', 'birds',\n",
        "                   'fedexcup', 'cuts', 'top10s', 'wins','drive_dist'], axis=1, inplace=True)\n",
        "player_stats = player_stats[['player', 'Avg Score', 'Drive Acc', 'GIR', 'earnings']]\n",
        "print(f'List of players: \\n {player_stats[\"player\"]}')"
      ],
      "metadata": {
        "colab": {
          "base_uri": "https://localhost:8080/"
        },
        "id": "poqCeJ32qjZO",
        "outputId": "47bd33fe-ecec-4efa-f6c0-6a2a7186ba7b"
      },
      "execution_count": 64,
      "outputs": [
        {
          "output_type": "stream",
          "name": "stdout",
          "text": [
            "List of players: \n",
            " 0         Tadd Fujikawa\n",
            "1         Brett Quigley\n",
            "2           Willie Wood\n",
            "3          Luke Guthrie\n",
            "4            Nick Price\n",
            "5     Randall Hutchison\n",
            "6         Justin Thomas\n",
            "7     Jonathan Randolph\n",
            "8          Len Mattiace\n",
            "9       Andres Gonzales\n",
            "10       Scott Verplank\n",
            "11         Jeff Quinney\n",
            "12          Gene Sauers\n",
            "13          Derek Ernst\n",
            "14          Corey Pavin\n",
            "15         Rory McIlroy\n",
            "16      Doug LaBelle II\n",
            "17         Chase Wright\n",
            "18          Tiger Woods\n",
            "19          Sean O'Hair\n",
            "20       John Mallinger\n",
            "21         Jason Dufner\n",
            "22         Garth Mulroy\n",
            "23            Tim Clark\n",
            "24         Bubba Watson\n",
            "25             Kevin Na\n",
            "26         Steve Lowery\n",
            "27            Guy Boros\n",
            "28          Alex Aragon\n",
            "29    Victor Ciesielski\n",
            "30          Richard Lee\n",
            "31          Adam Hadwin\n",
            "32       Chesson Hadley\n",
            "33         David Markle\n",
            "34         Cory Renfrew\n",
            "35      Jordan Mitchell\n",
            "36          Matt Kuchar\n",
            "37            Jim Furyk\n",
            "38       Steve Stricker\n",
            "39      Brandt Snedeker\n",
            "40          Jonas Blixt\n",
            "41         Webb Simpson\n",
            "42     Brendon de Jonge\n",
            "43       Dustin Johnson\n",
            "44          Anthony Kim\n",
            "45         Zach Johnson\n",
            "46       Billy Horschel\n",
            "47          Justin Rose\n",
            "48          Bo Van Pelt\n",
            "49         Jeff Overton\n",
            "Name: player, dtype: object\n"
          ]
        }
      ]
    },
    {
      "cell_type": "markdown",
      "source": [
        "To make the application a little more user friendly, I included a variable that can be changed to select a specific player via a user input (from the list generated above) and converts the string to lowercase to compensate for any rogue typing."
      ],
      "metadata": {
        "id": "6IhRc7lvrhz6"
      }
    },
    {
      "cell_type": "code",
      "source": [
        "# The following code takes a user input to select player for comparison and passed the lower method to player\n",
        "# select to ensure code still runs if user enters name in unconventional way (all lower case/all upper case).\n",
        "user_player = input('Pick a golfer: ').lower()\n",
        "player_stats['player'] = [x.lower() for x in player_stats['player']]"
      ],
      "metadata": {
        "colab": {
          "base_uri": "https://localhost:8080/"
        },
        "id": "4E1cdq9PqpKq",
        "outputId": "11909e75-e4e1-4e34-d73a-fde6890e4d50"
      },
      "execution_count": 65,
      "outputs": [
        {
          "name": "stdout",
          "output_type": "stream",
          "text": [
            "Pick a golfer: Tiger woods\n"
          ]
        }
      ]
    },
    {
      "cell_type": "markdown",
      "source": [
        "The code below filters and finds the stats for the user_player and stores it as a variable, then it takes the remaining players averages and stores it as a separate variable. Instead of comparing 50 players (including the user input), we are comparing the user input to the remaining 49 players."
      ],
      "metadata": {
        "id": "vw-C-1CpsvmS"
      }
    },
    {
      "cell_type": "code",
      "source": [
        "player_avg = player_stats.loc[player_stats['player'] == user_player].mean()\n",
        "tour_avg = player_stats.loc[player_stats['player'] != user_player].mean()"
      ],
      "metadata": {
        "id": "6Ndfyb0gsBpR"
      },
      "execution_count": 66,
      "outputs": []
    },
    {
      "cell_type": "markdown",
      "source": [
        "This section takes the two series (player_avg, tour_avg) and converts them into a dataframe in pandas and uses Matplotlib to plot a bar graph comparing the stats."
      ],
      "metadata": {
        "id": "J0xw3lt7tQ2h"
      }
    },
    {
      "cell_type": "code",
      "source": [
        "player_comparison = pd.DataFrame({'Tour Avg': tour_avg, user_player.title(): player_avg})\n",
        "player_graph = player_comparison.plot.bar(color = ['SkyBlue','IndianRed'], rot=0,\n",
        "                 title=f'PGA Player Stat Comparison for {year} \\n by Top 50 Lowest Average Score')\n",
        "plt.show()"
      ],
      "metadata": {
        "colab": {
          "base_uri": "https://localhost:8080/",
          "height": 296
        },
        "id": "uk5__kFrtGto",
        "outputId": "e0661f6c-9d83-4c31-e1a5-3a8e3729a0fe"
      },
      "execution_count": 67,
      "outputs": [
        {
          "output_type": "display_data",
          "data": {
            "text/plain": [
              "<Figure size 432x288 with 1 Axes>"
            ],
            "image/png": "[encoded data removed]"
          },
          "metadata": {
            "needs_background": "light"
          }
        }
      ]
    },
    {
      "cell_type": "markdown",
      "source": [
        "I also included a section of code that allowed me to take my personal stats and compare them to the PGA Tour averages using the same arrangement from before. Here put my stats into a dictionary and converted it into a Pandas Series."
      ],
      "metadata": {
        "id": "rB1QKbobuWeD"
      }
    },
    {
      "cell_type": "code",
      "source": [
        "full_tour = player_stats.mean()\n",
        "my_stats = {'Avg Score': 90, 'Drive Acc': 32.5, 'GIR': 22.2}  # here you can input your own stats to compare\n",
        "my_series = pd.Series(my_stats)\n",
        "\n",
        "personal_comparison = pd.DataFrame({'Tour Avg': full_tour, 'My Avg': my_series})\n",
        "personal_graph = personal_comparison.plot.bar(color = ['SkyBlue','IndianRed'], rot=0,\n",
        "                 title=f'PGA Player Stat Comparison for {year} \\n by Top 50 Lowest Average Score')\n",
        "plt.show()"
      ],
      "metadata": {
        "colab": {
          "base_uri": "https://localhost:8080/",
          "height": 296
        },
        "id": "wbZuwiaNtMSh",
        "outputId": "ebe15e17-501c-4791-ac16-f5c8f0ba2b5d"
      },
      "execution_count": 68,
      "outputs": [
        {
          "output_type": "display_data",
          "data": {
            "text/plain": [
              "<Figure size 432x288 with 1 Axes>"
            ],
            "image/png": "[encoded data removed]"
          },
          "metadata": {
            "needs_background": "light"
          }
        }
      ]
    },
    {
      "cell_type": "markdown",
      "source": [
        "You can clearly see that my golf game is significantly below par when it comes to the top golfers averages."
      ],
      "metadata": {
        "id": "EhIDiD-GvIPL"
      }
    }
  ]
}